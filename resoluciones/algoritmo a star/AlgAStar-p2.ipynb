{
  "nbformat": 4,
  "nbformat_minor": 0,
  "metadata": {
    "colab": {
      "provenance": []
    },
    "kernelspec": {
      "name": "python3",
      "display_name": "Python 3"
    },
    "language_info": {
      "name": "python"
    }
  },
  "cells": [
    {
      "cell_type": "markdown",
      "source": [
        "Problema 2 - Hoja de Ejercicios - Algoritmo A Star"
      ],
      "metadata": {
        "id": "0l1zRMwkZdYE"
      }
    },
    {
      "cell_type": "code",
      "execution_count": null,
      "metadata": {
        "id": "iyQN1x8QZW_h"
      },
      "outputs": [],
      "source": [
        "from graphviz import Digraph\n",
        "\n",
        "# Clase Grafo Heurístico Bidireccional llamada BidHeuGraph\n",
        "class BidHeuGraph:\n",
        "  def __init__(self):\n",
        "    self.adjacencies = {}\n",
        "    self.heuristics = {}\n",
        "\n",
        "  def add_node(self, node, heuristic=0):\n",
        "    if node not in self.adjacencies:\n",
        "      self.adjacencies[node] = []\n",
        "      self.heuristics[node] = heuristic\n",
        "    else:\n",
        "      # Si el nodo ya existe, actualizar su valor heurístico\n",
        "      self.heuristics[node] = heuristic\n",
        "\n",
        "  def add_edge(self, source, destination, weight):\n",
        "    if source not in self.adjacencies:\n",
        "      raise ValueError(f\"Source {source} does not exist\")\n",
        "    if destination not in self.adjacencies:\n",
        "      raise ValueError(f\"Destination {destination} does not exist\")\n",
        "\n",
        "    # Agregar la conexión del nodo source al nodo destination con su peso\n",
        "    self.adjacencies[source].append((destination, weight))\n",
        "\n",
        "    # Agregar la conexión del nodo destination al nodo source con el mismo peso\n",
        "    self.adjacencies[destination].append((source, weight))\n",
        "\n",
        "  def view(self):\n",
        "    dot = Digraph(format='png')  # Puedes cambiar el formato según necesites\n",
        "    for node in self.adjacencies:\n",
        "      dot.node(node, label=f\"{node}\\nH:{self.heuristics[node]}\")\n",
        "\n",
        "    for source, edges in self.adjacencies.items():\n",
        "      for destination, weight in edges:\n",
        "        dot.edge(source, destination, label=str(weight))\n",
        "\n",
        "    return dot  # Retorna el objeto Graphviz sin guardarlo"
      ]
    },
    {
      "cell_type": "code",
      "source": [
        "import heapq\n",
        "\n",
        "def a_star_search(graph, start, goal):\n",
        "    \"\"\"\n",
        "    Implementación del algoritmo A* para encontrar el camino más corto entre dos nodos.\n",
        "\n",
        "    Args:\n",
        "        graph (Graph): El grafo en el que buscar\n",
        "        start: Nodo inicial\n",
        "        goal: Nodo objetivo\n",
        "\n",
        "    Returns:\n",
        "        tuple: (camino como lista de nodos, costo total del camino)\n",
        "        Si no se encuentra un camino, devuelve (None, float('inf'))\n",
        "    \"\"\"\n",
        "    # Conjunto de nodos visitados\n",
        "    closed_set = set()\n",
        "\n",
        "    # Conjunto de nodos por visitar (cola de prioridad)\n",
        "    open_set = []\n",
        "\n",
        "    # Para cada nodo, qué nodo nos llevó a él\n",
        "    came_from = {}\n",
        "\n",
        "    # Para cada nodo, el costo del camino más barato desde start hasta ese nodo\n",
        "    g_score = {node: float('inf') for node in graph.adjacencies}\n",
        "    g_score[start] = 0\n",
        "\n",
        "    # Para cada nodo, el costo total estimado desde start hasta goal pasando por ese nodo\n",
        "    f_score = {node: float('inf') for node in graph.adjacencies}\n",
        "    f_score[start] = graph.heuristics[start]\n",
        "\n",
        "    # Añadir el nodo inicial a la cola de prioridad\n",
        "    heapq.heappush(open_set, (f_score[start], start))\n",
        "\n",
        "    while open_set:\n",
        "        # Obtener el nodo con menor f_score\n",
        "        current_f, current = heapq.heappop(open_set)\n",
        "\n",
        "        # Si hemos llegado al objetivo, reconstruir y devolver el camino\n",
        "        if current == goal:\n",
        "            path = []\n",
        "            while current in came_from:\n",
        "                path.append(current)\n",
        "                current = came_from[current]\n",
        "            path.append(start)\n",
        "            path.reverse()\n",
        "            return path, g_score[goal]\n",
        "\n",
        "        # Marcar el nodo como visitado\n",
        "        closed_set.add(current)\n",
        "\n",
        "        # Revisar todos los vecinos\n",
        "        for neighbor, weight in graph.adjacencies[current]:\n",
        "            # Ignorar vecinos ya visitados\n",
        "            if neighbor in closed_set:\n",
        "                continue\n",
        "\n",
        "            # Calcular g_score tentativo para este vecino\n",
        "            tentative_g_score = g_score[current] + weight\n",
        "\n",
        "            # Si ya tenemos un camino mejor a este vecino, ignorar\n",
        "            if tentative_g_score >= g_score[neighbor]:\n",
        "                continue\n",
        "\n",
        "            # Este es el mejor camino hasta ahora, guardarlo\n",
        "            came_from[neighbor] = current\n",
        "            g_score[neighbor] = tentative_g_score\n",
        "            f_score[neighbor] = g_score[neighbor] + graph.heuristics[neighbor]\n",
        "\n",
        "            # Añadir vecino a la cola de prioridad si no está ya\n",
        "            if neighbor not in [n for _, n in open_set]:\n",
        "                heapq.heappush(open_set, (f_score[neighbor], neighbor))\n",
        "\n",
        "    # Si llegamos aquí, no hay camino al objetivo\n",
        "    return None, float('inf')"
      ],
      "metadata": {
        "id": "SqhuRoxzZm1f"
      },
      "execution_count": null,
      "outputs": []
    },
    {
      "cell_type": "code",
      "source": [
        "# Creamos el grafo\n",
        "graph = BidHeuGraph()\n",
        "\n",
        "# Agregar nodos y aristas al grafo\n",
        "graph.add_node('Arad', 366)\n",
        "graph.add_node('Bucharest', 0)\n",
        "graph.add_node('Craiova', 160)\n",
        "graph.add_node('Dobreta', 242)\n",
        "graph.add_node('Eforie', 161)\n",
        "graph.add_node('Fagaras', 178)\n",
        "graph.add_node('Giurgiu', 77)\n",
        "graph.add_node('Hirsova', 151)\n",
        "graph.add_node('Iasi', 226)\n",
        "graph.add_node('Lugoj', 244)\n",
        "graph.add_node('Mehadia', 241)\n",
        "graph.add_node('Neamt', 234)\n",
        "graph.add_node('Oradea', 380)\n",
        "graph.add_node('Pitesti', 98)\n",
        "graph.add_node('Rimnicu Vilcea', 193)\n",
        "graph.add_node('Sibiu', 253)\n",
        "graph.add_node('Timisoara', 329)\n",
        "graph.add_node('Urziceni', 80)\n",
        "graph.add_node('Vaslui', 199)\n",
        "graph.add_node('Zerind', 374)\n",
        "\n",
        "# Agregar las aristas\n",
        "graph.add_edge('Oradea', 'Zerind', 71)\n",
        "graph.add_edge('Zerind', 'Arad', 75)\n",
        "\n",
        "graph.add_edge('Arad', 'Timisoara', 118)\n",
        "graph.add_edge('Timisoara', 'Lugoj', 111)\n",
        "graph.add_edge('Lugoj', 'Mehadia', 70)\n",
        "graph.add_edge('Mehadia', 'Dobreta', 75)\n",
        "\n",
        "graph.add_edge('Arad', 'Sibiu', 140)\n",
        "\n",
        "graph.add_edge('Oradea', 'Sibiu', 151)\n",
        "\n",
        "graph.add_edge('Sibiu', 'Rimnicu Vilcea', 80)\n",
        "graph.add_edge('Rimnicu Vilcea', 'Craiova', 146)\n",
        "graph.add_edge('Rimnicu Vilcea', 'Pitesti', 97)\n",
        "\n",
        "graph.add_edge('Dobreta', 'Craiova', 120)\n",
        "graph.add_edge('Craiova', 'Pitesti', 138)\n",
        "\n",
        "graph.add_edge('Sibiu', 'Fagaras', 99)\n",
        "graph.add_edge('Fagaras', 'Bucharest', 211)\n",
        "\n",
        "graph.add_edge('Pitesti', 'Bucharest', 101)\n",
        "graph.add_edge('Bucharest', 'Giurgiu', 90)\n",
        "\n",
        "graph.add_edge('Bucharest', 'Urziceni', 85)\n",
        "\n",
        "graph.add_edge('Urziceni', 'Hirsova', 98)\n",
        "graph.add_edge('Hirsova', 'Eforie', 86)\n",
        "\n",
        "graph.add_edge('Urziceni', 'Vaslui', 142)\n",
        "graph.add_edge('Vaslui', 'Iasi', 92)\n",
        "graph.add_edge('Iasi', 'Neamt', 87)\n",
        "\n",
        "graph.view()"
      ],
      "metadata": {
        "colab": {
          "base_uri": "https://localhost:8080/",
          "height": 1000
        },
        "id": "cMm3HeFeZuBw",
        "outputId": "fc7c81c8-a560-498c-ecdb-f45d320c0210"
      },
      "execution_count": null,
      "outputs": [
        {
          "output_type": "execute_result",
          "data": {
            "image/svg+xml": "<?xml version=\"1.0\" encoding=\"UTF-8\" standalone=\"no\"?>\n<!DOCTYPE svg PUBLIC \"-//W3C//DTD SVG 1.1//EN\"\n \"http://www.w3.org/Graphics/SVG/1.1/DTD/svg11.dtd\">\n<!-- Generated by graphviz version 2.43.0 (0)\n -->\n<!-- Title: %3 Pages: 1 -->\n<svg width=\"520pt\" height=\"1004pt\"\n viewBox=\"0.00 0.00 520.00 1004.40\" xmlns=\"http://www.w3.org/2000/svg\" xmlns:xlink=\"http://www.w3.org/1999/xlink\">\n<g id=\"graph0\" class=\"graph\" transform=\"scale(1 1) rotate(0) translate(4 1000.4)\">\n<title>%3</title>\n<polygon fill=\"white\" stroke=\"transparent\" points=\"-4,4 -4,-1000.4 516,-1000.4 516,4 -4,4\"/>\n<!-- Arad -->\n<g id=\"node1\" class=\"node\">\n<title>Arad</title>\n<ellipse fill=\"none\" stroke=\"black\" cx=\"304\" cy=\"-969.53\" rx=\"35.21\" ry=\"26.74\"/>\n<text text-anchor=\"middle\" x=\"304\" y=\"-973.33\" font-family=\"Times,serif\" font-size=\"14.00\">Arad</text>\n<text text-anchor=\"middle\" x=\"304\" y=\"-958.33\" font-family=\"Times,serif\" font-size=\"14.00\">H:366</text>\n</g>\n<!-- Sibiu -->\n<g id=\"node16\" class=\"node\">\n<title>Sibiu</title>\n<ellipse fill=\"none\" stroke=\"black\" cx=\"364\" cy=\"-864.79\" rx=\"35.21\" ry=\"26.74\"/>\n<text text-anchor=\"middle\" x=\"364\" y=\"-868.59\" font-family=\"Times,serif\" font-size=\"14.00\">Sibiu</text>\n<text text-anchor=\"middle\" x=\"364\" y=\"-853.59\" font-family=\"Times,serif\" font-size=\"14.00\">H:253</text>\n</g>\n<!-- Arad&#45;&gt;Sibiu -->\n<g id=\"edge3\" class=\"edge\">\n<title>Arad&#45;&gt;Sibiu</title>\n<path fill=\"none\" stroke=\"black\" d=\"M309.08,-942.82C311.9,-932.1 316.05,-919.8 322,-909.66 325.44,-903.79 329.81,-898.1 334.43,-892.86\"/>\n<polygon fill=\"black\" stroke=\"black\" points=\"337,-895.24 341.29,-885.55 331.89,-890.45 337,-895.24\"/>\n<text text-anchor=\"middle\" x=\"332.5\" y=\"-913.46\" font-family=\"Times,serif\" font-size=\"14.00\">140</text>\n</g>\n<!-- Timisoara -->\n<g id=\"node17\" class=\"node\">\n<title>Timisoara</title>\n<ellipse fill=\"none\" stroke=\"black\" cx=\"58\" cy=\"-236.35\" rx=\"50.82\" ry=\"26.74\"/>\n<text text-anchor=\"middle\" x=\"58\" y=\"-240.15\" font-family=\"Times,serif\" font-size=\"14.00\">Timisoara</text>\n<text text-anchor=\"middle\" x=\"58\" y=\"-225.15\" font-family=\"Times,serif\" font-size=\"14.00\">H:329</text>\n</g>\n<!-- Arad&#45;&gt;Timisoara -->\n<g id=\"edge2\" class=\"edge\">\n<title>Arad&#45;&gt;Timisoara</title>\n<path fill=\"none\" stroke=\"black\" d=\"M268.71,-966.81C203.53,-963 67.49,-951.95 30,-924.66 6.26,-907.38 0,-895.16 0,-865.79 0,-865.79 0,-865.79 0,-340.09 0,-313.68 14.71,-287.82 29.31,-268.64\"/>\n<polygon fill=\"black\" stroke=\"black\" points=\"32.24,-270.59 35.74,-260.59 26.77,-266.22 32.24,-270.59\"/>\n<text text-anchor=\"middle\" x=\"10.5\" y=\"-599.24\" font-family=\"Times,serif\" font-size=\"14.00\">118</text>\n</g>\n<!-- Zerind -->\n<g id=\"node20\" class=\"node\">\n<title>Zerind</title>\n<ellipse fill=\"none\" stroke=\"black\" cx=\"376\" cy=\"-655.31\" rx=\"37.45\" ry=\"26.74\"/>\n<text text-anchor=\"middle\" x=\"376\" y=\"-659.11\" font-family=\"Times,serif\" font-size=\"14.00\">Zerind</text>\n<text text-anchor=\"middle\" x=\"376\" y=\"-644.11\" font-family=\"Times,serif\" font-size=\"14.00\">H:374</text>\n</g>\n<!-- Arad&#45;&gt;Zerind -->\n<g id=\"edge1\" class=\"edge\">\n<title>Arad&#45;&gt;Zerind</title>\n<path fill=\"none\" stroke=\"black\" d=\"M295.38,-943.19C285.61,-910.68 272.55,-852.8 285,-804.92 296.78,-759.62 327.56,-714.79 350.07,-686.41\"/>\n<polygon fill=\"black\" stroke=\"black\" points=\"352.9,-688.48 356.47,-678.5 347.46,-684.08 352.9,-688.48\"/>\n<text text-anchor=\"middle\" x=\"292\" y=\"-808.72\" font-family=\"Times,serif\" font-size=\"14.00\">75</text>\n</g>\n<!-- Bucharest -->\n<g id=\"node2\" class=\"node\">\n<title>Bucharest</title>\n<ellipse fill=\"none\" stroke=\"black\" cx=\"288\" cy=\"-445.83\" rx=\"50.41\" ry=\"26.74\"/>\n<text text-anchor=\"middle\" x=\"288\" y=\"-449.63\" font-family=\"Times,serif\" font-size=\"14.00\">Bucharest</text>\n<text text-anchor=\"middle\" x=\"288\" y=\"-434.63\" font-family=\"Times,serif\" font-size=\"14.00\">H:0</text>\n</g>\n<!-- Fagaras -->\n<g id=\"node6\" class=\"node\">\n<title>Fagaras</title>\n<ellipse fill=\"none\" stroke=\"black\" cx=\"434\" cy=\"-341.09\" rx=\"41.94\" ry=\"26.74\"/>\n<text text-anchor=\"middle\" x=\"434\" y=\"-344.89\" font-family=\"Times,serif\" font-size=\"14.00\">Fagaras</text>\n<text text-anchor=\"middle\" x=\"434\" y=\"-329.89\" font-family=\"Times,serif\" font-size=\"14.00\">H:178</text>\n</g>\n<!-- Bucharest&#45;&gt;Fagaras -->\n<g id=\"edge4\" class=\"edge\">\n<title>Bucharest&#45;&gt;Fagaras</title>\n<path fill=\"none\" stroke=\"black\" d=\"M314.52,-422.83C328.63,-411.43 346.44,-397.52 363,-385.96 373.21,-378.83 384.57,-371.55 395.15,-365.01\"/>\n<polygon fill=\"black\" stroke=\"black\" points=\"397.1,-367.92 403.81,-359.72 393.45,-361.94 397.1,-367.92\"/>\n<text text-anchor=\"middle\" x=\"373.5\" y=\"-389.76\" font-family=\"Times,serif\" font-size=\"14.00\">211</text>\n</g>\n<!-- Giurgiu -->\n<g id=\"node7\" class=\"node\">\n<title>Giurgiu</title>\n<ellipse fill=\"none\" stroke=\"black\" cx=\"323\" cy=\"-341.09\" rx=\"41.94\" ry=\"26.74\"/>\n<text text-anchor=\"middle\" x=\"323\" y=\"-344.89\" font-family=\"Times,serif\" font-size=\"14.00\">Giurgiu</text>\n<text text-anchor=\"middle\" x=\"323\" y=\"-329.89\" font-family=\"Times,serif\" font-size=\"14.00\">H:77</text>\n</g>\n<!-- Bucharest&#45;&gt;Giurgiu -->\n<g id=\"edge6\" class=\"edge\">\n<title>Bucharest&#45;&gt;Giurgiu</title>\n<path fill=\"none\" stroke=\"black\" d=\"M284.94,-419C284.59,-408.48 285.34,-396.38 289,-385.96 290.59,-381.43 292.86,-376.99 295.47,-372.8\"/>\n<polygon fill=\"black\" stroke=\"black\" points=\"298.37,-374.75 301.22,-364.55 292.63,-370.75 298.37,-374.75\"/>\n<text text-anchor=\"middle\" x=\"296\" y=\"-389.76\" font-family=\"Times,serif\" font-size=\"14.00\">90</text>\n</g>\n<!-- Pitesti -->\n<g id=\"node14\" class=\"node\">\n<title>Pitesti</title>\n<ellipse fill=\"none\" stroke=\"black\" cx=\"245\" cy=\"-550.57\" rx=\"35.21\" ry=\"26.74\"/>\n<text text-anchor=\"middle\" x=\"245\" y=\"-554.37\" font-family=\"Times,serif\" font-size=\"14.00\">Pitesti</text>\n<text text-anchor=\"middle\" x=\"245\" y=\"-539.37\" font-family=\"Times,serif\" font-size=\"14.00\">H:98</text>\n</g>\n<!-- Bucharest&#45;&gt;Pitesti -->\n<g id=\"edge5\" class=\"edge\">\n<title>Bucharest&#45;&gt;Pitesti</title>\n<path fill=\"none\" stroke=\"black\" d=\"M260.44,-468.4C254.18,-474.83 248.39,-482.41 245,-490.7 242.07,-497.87 240.88,-505.96 240.65,-513.79\"/>\n<polygon fill=\"black\" stroke=\"black\" points=\"237.15,-513.9 240.83,-523.83 244.15,-513.77 237.15,-513.9\"/>\n<text text-anchor=\"middle\" x=\"255.5\" y=\"-494.5\" font-family=\"Times,serif\" font-size=\"14.00\">101</text>\n</g>\n<!-- Urziceni -->\n<g id=\"node18\" class=\"node\">\n<title>Urziceni</title>\n<ellipse fill=\"none\" stroke=\"black\" cx=\"216\" cy=\"-341.09\" rx=\"44.6\" ry=\"26.74\"/>\n<text text-anchor=\"middle\" x=\"216\" y=\"-344.89\" font-family=\"Times,serif\" font-size=\"14.00\">Urziceni</text>\n<text text-anchor=\"middle\" x=\"216\" y=\"-329.89\" font-family=\"Times,serif\" font-size=\"14.00\">H:80</text>\n</g>\n<!-- Bucharest&#45;&gt;Urziceni -->\n<g id=\"edge7\" class=\"edge\">\n<title>Bucharest&#45;&gt;Urziceni</title>\n<path fill=\"none\" stroke=\"black\" d=\"M270.94,-420.48C261.34,-406.79 249.24,-389.52 238.84,-374.68\"/>\n<polygon fill=\"black\" stroke=\"black\" points=\"241.55,-372.44 232.94,-366.26 235.81,-376.46 241.55,-372.44\"/>\n<text text-anchor=\"middle\" x=\"264\" y=\"-389.76\" font-family=\"Times,serif\" font-size=\"14.00\">85</text>\n</g>\n<!-- Craiova -->\n<g id=\"node3\" class=\"node\">\n<title>Craiova</title>\n<ellipse fill=\"none\" stroke=\"black\" cx=\"200\" cy=\"-655.31\" rx=\"41.94\" ry=\"26.74\"/>\n<text text-anchor=\"middle\" x=\"200\" y=\"-659.11\" font-family=\"Times,serif\" font-size=\"14.00\">Craiova</text>\n<text text-anchor=\"middle\" x=\"200\" y=\"-644.11\" font-family=\"Times,serif\" font-size=\"14.00\">H:160</text>\n</g>\n<!-- Dobreta -->\n<g id=\"node4\" class=\"node\">\n<title>Dobreta</title>\n<ellipse fill=\"none\" stroke=\"black\" cx=\"134\" cy=\"-550.57\" rx=\"42.35\" ry=\"26.74\"/>\n<text text-anchor=\"middle\" x=\"134\" y=\"-554.37\" font-family=\"Times,serif\" font-size=\"14.00\">Dobreta</text>\n<text text-anchor=\"middle\" x=\"134\" y=\"-539.37\" font-family=\"Times,serif\" font-size=\"14.00\">H:242</text>\n</g>\n<!-- Craiova&#45;&gt;Dobreta -->\n<g id=\"edge9\" class=\"edge\">\n<title>Craiova&#45;&gt;Dobreta</title>\n<path fill=\"none\" stroke=\"black\" d=\"M166.35,-639.2C143.6,-628.64 117.13,-615.55 114,-610.44 109.16,-602.53 109.82,-593.3 112.83,-584.52\"/>\n<polygon fill=\"black\" stroke=\"black\" points=\"116.08,-585.83 116.88,-575.27 109.67,-583.03 116.08,-585.83\"/>\n<text text-anchor=\"middle\" x=\"124.5\" y=\"-599.24\" font-family=\"Times,serif\" font-size=\"14.00\">120</text>\n</g>\n<!-- Craiova&#45;&gt;Pitesti -->\n<g id=\"edge10\" class=\"edge\">\n<title>Craiova&#45;&gt;Pitesti</title>\n<path fill=\"none\" stroke=\"black\" d=\"M196.88,-628.51C196.6,-617.88 197.61,-605.69 202,-595.44 204.71,-589.12 208.78,-583.2 213.36,-577.87\"/>\n<polygon fill=\"black\" stroke=\"black\" points=\"215.98,-580.19 220.33,-570.53 210.91,-575.38 215.98,-580.19\"/>\n<text text-anchor=\"middle\" x=\"212.5\" y=\"-599.24\" font-family=\"Times,serif\" font-size=\"14.00\">138</text>\n</g>\n<!-- Rimnicu Vilcea -->\n<g id=\"node15\" class=\"node\">\n<title>Rimnicu Vilcea</title>\n<ellipse fill=\"none\" stroke=\"black\" cx=\"207\" cy=\"-760.05\" rx=\"71.34\" ry=\"26.74\"/>\n<text text-anchor=\"middle\" x=\"207\" y=\"-763.85\" font-family=\"Times,serif\" font-size=\"14.00\">Rimnicu Vilcea</text>\n<text text-anchor=\"middle\" x=\"207\" y=\"-748.85\" font-family=\"Times,serif\" font-size=\"14.00\">H:193</text>\n</g>\n<!-- Craiova&#45;&gt;Rimnicu Vilcea -->\n<g id=\"edge8\" class=\"edge\">\n<title>Craiova&#45;&gt;Rimnicu Vilcea</title>\n<path fill=\"none\" stroke=\"black\" d=\"M202.54,-682.28C203.07,-688.16 203.59,-694.38 204,-700.18 204.52,-707.47 204.98,-715.26 205.38,-722.72\"/>\n<polygon fill=\"black\" stroke=\"black\" points=\"201.89,-723.14 205.89,-732.95 208.88,-722.79 201.89,-723.14\"/>\n<text text-anchor=\"middle\" x=\"215.5\" y=\"-703.98\" font-family=\"Times,serif\" font-size=\"14.00\">146</text>\n</g>\n<!-- Dobreta&#45;&gt;Craiova -->\n<g id=\"edge12\" class=\"edge\">\n<title>Dobreta&#45;&gt;Craiova</title>\n<path fill=\"none\" stroke=\"black\" d=\"M149.61,-575.86C158.42,-589.58 169.55,-606.91 179.11,-621.79\"/>\n<polygon fill=\"black\" stroke=\"black\" points=\"176.18,-623.7 184.53,-630.22 182.07,-619.92 176.18,-623.7\"/>\n<text text-anchor=\"middle\" x=\"181.5\" y=\"-599.24\" font-family=\"Times,serif\" font-size=\"14.00\">120</text>\n</g>\n<!-- Mehadia -->\n<g id=\"node11\" class=\"node\">\n<title>Mehadia</title>\n<ellipse fill=\"none\" stroke=\"black\" cx=\"131\" cy=\"-445.83\" rx=\"45.92\" ry=\"26.74\"/>\n<text text-anchor=\"middle\" x=\"131\" y=\"-449.63\" font-family=\"Times,serif\" font-size=\"14.00\">Mehadia</text>\n<text text-anchor=\"middle\" x=\"131\" y=\"-434.63\" font-family=\"Times,serif\" font-size=\"14.00\">H:241</text>\n</g>\n<!-- Dobreta&#45;&gt;Mehadia -->\n<g id=\"edge11\" class=\"edge\">\n<title>Dobreta&#45;&gt;Mehadia</title>\n<path fill=\"none\" stroke=\"black\" d=\"M136.66,-523.48C137.36,-513.25 137.73,-501.42 137,-490.7 136.83,-488.15 136.6,-485.52 136.33,-482.88\"/>\n<polygon fill=\"black\" stroke=\"black\" points=\"139.78,-482.28 135.14,-472.75 132.83,-483.09 139.78,-482.28\"/>\n<text text-anchor=\"middle\" x=\"145\" y=\"-494.5\" font-family=\"Times,serif\" font-size=\"14.00\">75</text>\n</g>\n<!-- Eforie -->\n<g id=\"node5\" class=\"node\">\n<title>Eforie</title>\n<ellipse fill=\"none\" stroke=\"black\" cx=\"169\" cy=\"-131.61\" rx=\"35.21\" ry=\"26.74\"/>\n<text text-anchor=\"middle\" x=\"169\" y=\"-135.41\" font-family=\"Times,serif\" font-size=\"14.00\">Eforie</text>\n<text text-anchor=\"middle\" x=\"169\" y=\"-120.41\" font-family=\"Times,serif\" font-size=\"14.00\">H:161</text>\n</g>\n<!-- Hirsova -->\n<g id=\"node8\" class=\"node\">\n<title>Hirsova</title>\n<ellipse fill=\"none\" stroke=\"black\" cx=\"177\" cy=\"-236.35\" rx=\"41.94\" ry=\"26.74\"/>\n<text text-anchor=\"middle\" x=\"177\" y=\"-240.15\" font-family=\"Times,serif\" font-size=\"14.00\">Hirsova</text>\n<text text-anchor=\"middle\" x=\"177\" y=\"-225.15\" font-family=\"Times,serif\" font-size=\"14.00\">H:151</text>\n</g>\n<!-- Eforie&#45;&gt;Hirsova -->\n<g id=\"edge13\" class=\"edge\">\n<title>Eforie&#45;&gt;Hirsova</title>\n<path fill=\"none\" stroke=\"black\" d=\"M171.02,-158.53C171.97,-170.82 173.13,-185.7 174.18,-199.09\"/>\n<polygon fill=\"black\" stroke=\"black\" points=\"170.72,-199.73 174.98,-209.42 177.69,-199.18 170.72,-199.73\"/>\n<text text-anchor=\"middle\" x=\"181\" y=\"-180.28\" font-family=\"Times,serif\" font-size=\"14.00\">86</text>\n</g>\n<!-- Fagaras&#45;&gt;Bucharest -->\n<g id=\"edge15\" class=\"edge\">\n<title>Fagaras&#45;&gt;Bucharest</title>\n<path fill=\"none\" stroke=\"black\" d=\"M417.52,-366.06C408.62,-377.71 396.83,-391.25 384,-400.96 370.45,-411.21 354.11,-419.8 338.79,-426.57\"/>\n<polygon fill=\"black\" stroke=\"black\" points=\"337.25,-423.42 329.42,-430.56 339.99,-429.87 337.25,-423.42\"/>\n<text text-anchor=\"middle\" x=\"410.5\" y=\"-389.76\" font-family=\"Times,serif\" font-size=\"14.00\">211</text>\n</g>\n<!-- Fagaras&#45;&gt;Sibiu -->\n<g id=\"edge14\" class=\"edge\">\n<title>Fagaras&#45;&gt;Sibiu</title>\n<path fill=\"none\" stroke=\"black\" d=\"M437.16,-368.23C439.4,-388.97 442,-418.71 442,-444.83 442,-761.05 442,-761.05 442,-761.05 442,-792.56 418.43,-820.48 397.21,-839.22\"/>\n<polygon fill=\"black\" stroke=\"black\" points=\"394.92,-836.58 389.54,-845.71 399.44,-841.92 394.92,-836.58\"/>\n<text text-anchor=\"middle\" x=\"449\" y=\"-599.24\" font-family=\"Times,serif\" font-size=\"14.00\">99</text>\n</g>\n<!-- Giurgiu&#45;&gt;Bucharest -->\n<g id=\"edge16\" class=\"edge\">\n<title>Giurgiu&#45;&gt;Bucharest</title>\n<path fill=\"none\" stroke=\"black\" d=\"M314.35,-367.59C310.83,-377.95 306.73,-390.03 303,-400.96 302.02,-403.84 301,-406.82 299.98,-409.82\"/>\n<polygon fill=\"black\" stroke=\"black\" points=\"296.65,-408.72 296.73,-419.32 303.28,-410.98 296.65,-408.72\"/>\n<text text-anchor=\"middle\" x=\"315\" y=\"-389.76\" font-family=\"Times,serif\" font-size=\"14.00\">90</text>\n</g>\n<!-- Hirsova&#45;&gt;Eforie -->\n<g id=\"edge18\" class=\"edge\">\n<title>Hirsova&#45;&gt;Eforie</title>\n<path fill=\"none\" stroke=\"black\" d=\"M162.33,-211.06C159.31,-204.88 156.57,-198.11 155,-191.48 153.13,-183.57 153.67,-175.07 155.33,-167.05\"/>\n<polygon fill=\"black\" stroke=\"black\" points=\"158.75,-167.8 157.94,-157.24 151.98,-166.01 158.75,-167.8\"/>\n<text text-anchor=\"middle\" x=\"162\" y=\"-180.28\" font-family=\"Times,serif\" font-size=\"14.00\">86</text>\n</g>\n<!-- Hirsova&#45;&gt;Urziceni -->\n<g id=\"edge17\" class=\"edge\">\n<title>Hirsova&#45;&gt;Urziceni</title>\n<path fill=\"none\" stroke=\"black\" d=\"M169.71,-263.08C167.98,-273.69 167.71,-285.89 172,-296.22 174.33,-301.84 177.77,-307.11 181.71,-311.91\"/>\n<polygon fill=\"black\" stroke=\"black\" points=\"179.38,-314.54 188.72,-319.54 184.53,-309.81 179.38,-314.54\"/>\n<text text-anchor=\"middle\" x=\"179\" y=\"-285.02\" font-family=\"Times,serif\" font-size=\"14.00\">98</text>\n</g>\n<!-- Iasi -->\n<g id=\"node9\" class=\"node\">\n<title>Iasi</title>\n<ellipse fill=\"none\" stroke=\"black\" cx=\"271\" cy=\"-131.61\" rx=\"35.21\" ry=\"26.74\"/>\n<text text-anchor=\"middle\" x=\"271\" y=\"-135.41\" font-family=\"Times,serif\" font-size=\"14.00\">Iasi</text>\n<text text-anchor=\"middle\" x=\"271\" y=\"-120.41\" font-family=\"Times,serif\" font-size=\"14.00\">H:226</text>\n</g>\n<!-- Neamt -->\n<g id=\"node12\" class=\"node\">\n<title>Neamt</title>\n<ellipse fill=\"none\" stroke=\"black\" cx=\"271\" cy=\"-26.87\" rx=\"37.45\" ry=\"26.74\"/>\n<text text-anchor=\"middle\" x=\"271\" y=\"-30.67\" font-family=\"Times,serif\" font-size=\"14.00\">Neamt</text>\n<text text-anchor=\"middle\" x=\"271\" y=\"-15.67\" font-family=\"Times,serif\" font-size=\"14.00\">H:234</text>\n</g>\n<!-- Iasi&#45;&gt;Neamt -->\n<g id=\"edge20\" class=\"edge\">\n<title>Iasi&#45;&gt;Neamt</title>\n<path fill=\"none\" stroke=\"black\" d=\"M259.65,-106.02C257.31,-99.86 255.2,-93.16 254,-86.74 252.47,-78.56 253.46,-69.89 255.58,-61.78\"/>\n<polygon fill=\"black\" stroke=\"black\" points=\"258.91,-62.84 258.62,-52.25 252.25,-60.71 258.91,-62.84\"/>\n<text text-anchor=\"middle\" x=\"261\" y=\"-75.54\" font-family=\"Times,serif\" font-size=\"14.00\">87</text>\n</g>\n<!-- Vaslui -->\n<g id=\"node19\" class=\"node\">\n<title>Vaslui</title>\n<ellipse fill=\"none\" stroke=\"black\" cx=\"283\" cy=\"-236.35\" rx=\"35.21\" ry=\"26.74\"/>\n<text text-anchor=\"middle\" x=\"283\" y=\"-240.15\" font-family=\"Times,serif\" font-size=\"14.00\">Vaslui</text>\n<text text-anchor=\"middle\" x=\"283\" y=\"-225.15\" font-family=\"Times,serif\" font-size=\"14.00\">H:199</text>\n</g>\n<!-- Iasi&#45;&gt;Vaslui -->\n<g id=\"edge19\" class=\"edge\">\n<title>Iasi&#45;&gt;Vaslui</title>\n<path fill=\"none\" stroke=\"black\" d=\"M274.03,-158.53C275.48,-170.94 277.24,-186 278.81,-199.49\"/>\n<polygon fill=\"black\" stroke=\"black\" points=\"275.34,-199.9 279.97,-209.42 282.29,-199.09 275.34,-199.9\"/>\n<text text-anchor=\"middle\" x=\"285\" y=\"-180.28\" font-family=\"Times,serif\" font-size=\"14.00\">92</text>\n</g>\n<!-- Lugoj -->\n<g id=\"node10\" class=\"node\">\n<title>Lugoj</title>\n<ellipse fill=\"none\" stroke=\"black\" cx=\"114\" cy=\"-341.09\" rx=\"35.21\" ry=\"26.74\"/>\n<text text-anchor=\"middle\" x=\"114\" y=\"-344.89\" font-family=\"Times,serif\" font-size=\"14.00\">Lugoj</text>\n<text text-anchor=\"middle\" x=\"114\" y=\"-329.89\" font-family=\"Times,serif\" font-size=\"14.00\">H:244</text>\n</g>\n<!-- Lugoj&#45;&gt;Mehadia -->\n<g id=\"edge22\" class=\"edge\">\n<title>Lugoj&#45;&gt;Mehadia</title>\n<path fill=\"none\" stroke=\"black\" d=\"M105.56,-367.28C103.21,-377.81 102.02,-390.09 105,-400.96 105.99,-404.59 107.38,-408.22 108.99,-411.76\"/>\n<polygon fill=\"black\" stroke=\"black\" points=\"105.98,-413.55 113.68,-420.82 112.19,-410.33 105.98,-413.55\"/>\n<text text-anchor=\"middle\" x=\"112\" y=\"-389.76\" font-family=\"Times,serif\" font-size=\"14.00\">70</text>\n</g>\n<!-- Lugoj&#45;&gt;Timisoara -->\n<g id=\"edge21\" class=\"edge\">\n<title>Lugoj&#45;&gt;Timisoara</title>\n<path fill=\"none\" stroke=\"black\" d=\"M110.3,-314.13C108.06,-303.48 104.52,-291.31 99,-281.22 96.5,-276.65 93.41,-272.19 90.07,-267.98\"/>\n<polygon fill=\"black\" stroke=\"black\" points=\"92.56,-265.51 83.39,-260.21 87.25,-270.07 92.56,-265.51\"/>\n<text text-anchor=\"middle\" x=\"115.5\" y=\"-285.02\" font-family=\"Times,serif\" font-size=\"14.00\">111</text>\n</g>\n<!-- Mehadia&#45;&gt;Dobreta -->\n<g id=\"edge24\" class=\"edge\">\n<title>Mehadia&#45;&gt;Dobreta</title>\n<path fill=\"none\" stroke=\"black\" d=\"M121.68,-472.26C118.97,-482.6 117.17,-494.69 119,-505.7 119.5,-508.7 120.18,-511.77 120.97,-514.82\"/>\n<polygon fill=\"black\" stroke=\"black\" points=\"117.62,-515.83 123.82,-524.42 124.33,-513.84 117.62,-515.83\"/>\n<text text-anchor=\"middle\" x=\"126\" y=\"-494.5\" font-family=\"Times,serif\" font-size=\"14.00\">75</text>\n</g>\n<!-- Mehadia&#45;&gt;Lugoj -->\n<g id=\"edge23\" class=\"edge\">\n<title>Mehadia&#45;&gt;Lugoj</title>\n<path fill=\"none\" stroke=\"black\" d=\"M126.71,-418.9C124.66,-406.49 122.16,-391.43 119.93,-377.94\"/>\n<polygon fill=\"black\" stroke=\"black\" points=\"123.37,-377.3 118.29,-368.01 116.47,-378.45 123.37,-377.3\"/>\n<text text-anchor=\"middle\" x=\"131\" y=\"-389.76\" font-family=\"Times,serif\" font-size=\"14.00\">70</text>\n</g>\n<!-- Neamt&#45;&gt;Iasi -->\n<g id=\"edge25\" class=\"edge\">\n<title>Neamt&#45;&gt;Iasi</title>\n<path fill=\"none\" stroke=\"black\" d=\"M271,-53.79C271,-66.08 271,-80.96 271,-94.35\"/>\n<polygon fill=\"black\" stroke=\"black\" points=\"267.5,-94.68 271,-104.68 274.5,-94.68 267.5,-94.68\"/>\n<text text-anchor=\"middle\" x=\"278\" y=\"-75.54\" font-family=\"Times,serif\" font-size=\"14.00\">87</text>\n</g>\n<!-- Oradea -->\n<g id=\"node13\" class=\"node\">\n<title>Oradea</title>\n<ellipse fill=\"none\" stroke=\"black\" cx=\"374\" cy=\"-760.05\" rx=\"39.7\" ry=\"26.74\"/>\n<text text-anchor=\"middle\" x=\"374\" y=\"-763.85\" font-family=\"Times,serif\" font-size=\"14.00\">Oradea</text>\n<text text-anchor=\"middle\" x=\"374\" y=\"-748.85\" font-family=\"Times,serif\" font-size=\"14.00\">H:380</text>\n</g>\n<!-- Oradea&#45;&gt;Sibiu -->\n<g id=\"edge27\" class=\"edge\">\n<title>Oradea&#45;&gt;Sibiu</title>\n<path fill=\"none\" stroke=\"black\" d=\"M382.55,-786.36C384.97,-796.79 386.38,-808.98 384,-819.92 383.25,-823.38 382.2,-826.89 380.97,-830.35\"/>\n<polygon fill=\"black\" stroke=\"black\" points=\"377.64,-829.25 377.14,-839.84 384.13,-831.88 377.64,-829.25\"/>\n<text text-anchor=\"middle\" x=\"396.5\" y=\"-808.72\" font-family=\"Times,serif\" font-size=\"14.00\">151</text>\n</g>\n<!-- Oradea&#45;&gt;Zerind -->\n<g id=\"edge26\" class=\"edge\">\n<title>Oradea&#45;&gt;Zerind</title>\n<path fill=\"none\" stroke=\"black\" d=\"M374.5,-733.13C374.74,-720.84 375.03,-705.95 375.29,-692.56\"/>\n<polygon fill=\"black\" stroke=\"black\" points=\"378.8,-692.29 375.5,-682.23 371.8,-692.16 378.8,-692.29\"/>\n<text text-anchor=\"middle\" x=\"383\" y=\"-703.98\" font-family=\"Times,serif\" font-size=\"14.00\">71</text>\n</g>\n<!-- Pitesti&#45;&gt;Bucharest -->\n<g id=\"edge30\" class=\"edge\">\n<title>Pitesti&#45;&gt;Bucharest</title>\n<path fill=\"none\" stroke=\"black\" d=\"M257.16,-525.15C260.16,-518.86 263.29,-512.07 266,-505.7 269.21,-498.15 272.44,-489.95 275.39,-482.14\"/>\n<polygon fill=\"black\" stroke=\"black\" points=\"278.76,-483.12 278.96,-472.53 272.2,-480.68 278.76,-483.12\"/>\n<text text-anchor=\"middle\" x=\"282.5\" y=\"-494.5\" font-family=\"Times,serif\" font-size=\"14.00\">101</text>\n</g>\n<!-- Pitesti&#45;&gt;Craiova -->\n<g id=\"edge29\" class=\"edge\">\n<title>Pitesti&#45;&gt;Craiova</title>\n<path fill=\"none\" stroke=\"black\" d=\"M236.37,-576.77C232.56,-587.3 227.85,-599.58 223,-610.44 221.55,-613.68 219.97,-617.01 218.35,-620.33\"/>\n<polygon fill=\"black\" stroke=\"black\" points=\"215.08,-619.02 213.69,-629.52 221.33,-622.18 215.08,-619.02\"/>\n<text text-anchor=\"middle\" x=\"240.5\" y=\"-599.24\" font-family=\"Times,serif\" font-size=\"14.00\">138</text>\n</g>\n<!-- Pitesti&#45;&gt;Rimnicu Vilcea -->\n<g id=\"edge28\" class=\"edge\">\n<title>Pitesti&#45;&gt;Rimnicu Vilcea</title>\n<path fill=\"none\" stroke=\"black\" d=\"M251.89,-577.39C253.19,-583.28 254.34,-589.54 255,-595.44 259.32,-633.79 261.95,-645.18 251,-682.18 246.57,-697.16 238.73,-712.35 230.88,-725.23\"/>\n<polygon fill=\"black\" stroke=\"black\" points=\"227.88,-723.42 225.49,-733.74 233.79,-727.17 227.88,-723.42\"/>\n<text text-anchor=\"middle\" x=\"266\" y=\"-651.61\" font-family=\"Times,serif\" font-size=\"14.00\">97</text>\n</g>\n<!-- Rimnicu Vilcea&#45;&gt;Craiova -->\n<g id=\"edge32\" class=\"edge\">\n<title>Rimnicu Vilcea&#45;&gt;Craiova</title>\n<path fill=\"none\" stroke=\"black\" d=\"M187.51,-733.79C184,-727.97 180.87,-721.6 179,-715.18 176.57,-706.87 177.7,-698.02 180.4,-689.78\"/>\n<polygon fill=\"black\" stroke=\"black\" points=\"183.67,-691.03 184.17,-680.45 177.18,-688.41 183.67,-691.03\"/>\n<text text-anchor=\"middle\" x=\"189.5\" y=\"-703.98\" font-family=\"Times,serif\" font-size=\"14.00\">146</text>\n</g>\n<!-- Rimnicu Vilcea&#45;&gt;Pitesti -->\n<g id=\"edge33\" class=\"edge\">\n<title>Rimnicu Vilcea&#45;&gt;Pitesti</title>\n<path fill=\"none\" stroke=\"black\" d=\"M175.96,-735.63C160.49,-721.96 143.33,-703.27 135,-682.18 126.22,-659.97 127.39,-651.08 135,-628.44 140.86,-611 145.92,-607.29 160,-595.44 173.13,-584.39 189.52,-575.11 204.39,-567.98\"/>\n<polygon fill=\"black\" stroke=\"black\" points=\"206.27,-570.96 213.89,-563.6 203.34,-564.6 206.27,-570.96\"/>\n<text text-anchor=\"middle\" x=\"142\" y=\"-651.61\" font-family=\"Times,serif\" font-size=\"14.00\">97</text>\n</g>\n<!-- Rimnicu Vilcea&#45;&gt;Sibiu -->\n<g id=\"edge31\" class=\"edge\">\n<title>Rimnicu Vilcea&#45;&gt;Sibiu</title>\n<path fill=\"none\" stroke=\"black\" d=\"M256.08,-779.65C271.68,-786.55 288.61,-795.12 303,-804.92 315.43,-813.39 327.66,-824.48 337.86,-834.75\"/>\n<polygon fill=\"black\" stroke=\"black\" points=\"335.44,-837.28 344.91,-842.03 340.47,-832.41 335.44,-837.28\"/>\n<text text-anchor=\"middle\" x=\"329\" y=\"-808.72\" font-family=\"Times,serif\" font-size=\"14.00\">80</text>\n</g>\n<!-- Sibiu&#45;&gt;Arad -->\n<g id=\"edge34\" class=\"edge\">\n<title>Sibiu&#45;&gt;Arad</title>\n<path fill=\"none\" stroke=\"black\" d=\"M357.23,-891.37C353.81,-902.08 349.08,-914.39 343,-924.66 339.87,-929.94 336.06,-935.16 332.05,-940.07\"/>\n<polygon fill=\"black\" stroke=\"black\" points=\"329.12,-938.11 325.22,-947.96 334.41,-942.69 329.12,-938.11\"/>\n<text text-anchor=\"middle\" x=\"360.5\" y=\"-913.46\" font-family=\"Times,serif\" font-size=\"14.00\">140</text>\n</g>\n<!-- Sibiu&#45;&gt;Fagaras -->\n<g id=\"edge37\" class=\"edge\">\n<title>Sibiu&#45;&gt;Fagaras</title>\n<path fill=\"none\" stroke=\"black\" d=\"M395.39,-851.88C429.75,-836.55 480,-806.38 480,-761.05 480,-761.05 480,-761.05 480,-444.83 480,-419.69 468.39,-393.88 456.83,-374.41\"/>\n<polygon fill=\"black\" stroke=\"black\" points=\"459.65,-372.31 451.39,-365.67 453.7,-376.01 459.65,-372.31\"/>\n<text text-anchor=\"middle\" x=\"487\" y=\"-599.24\" font-family=\"Times,serif\" font-size=\"14.00\">99</text>\n</g>\n<!-- Sibiu&#45;&gt;Oradea -->\n<g id=\"edge35\" class=\"edge\">\n<title>Sibiu&#45;&gt;Oradea</title>\n<path fill=\"none\" stroke=\"black\" d=\"M359.06,-838.18C357.78,-827.81 357.2,-815.75 359,-804.92 359.5,-801.92 360.18,-798.85 360.97,-795.8\"/>\n<polygon fill=\"black\" stroke=\"black\" points=\"364.33,-796.78 363.82,-786.2 357.62,-794.79 364.33,-796.78\"/>\n<text text-anchor=\"middle\" x=\"369.5\" y=\"-808.72\" font-family=\"Times,serif\" font-size=\"14.00\">151</text>\n</g>\n<!-- Sibiu&#45;&gt;Rimnicu Vilcea -->\n<g id=\"edge36\" class=\"edge\">\n<title>Sibiu&#45;&gt;Rimnicu Vilcea</title>\n<path fill=\"none\" stroke=\"black\" d=\"M330.49,-855.84C306.88,-849.07 275.43,-837.58 252,-819.92 242.88,-813.05 234.67,-803.86 227.83,-794.78\"/>\n<polygon fill=\"black\" stroke=\"black\" points=\"230.62,-792.66 221.96,-786.56 224.92,-796.73 230.62,-792.66\"/>\n<text text-anchor=\"middle\" x=\"259\" y=\"-808.72\" font-family=\"Times,serif\" font-size=\"14.00\">80</text>\n</g>\n<!-- Timisoara&#45;&gt;Arad -->\n<g id=\"edge38\" class=\"edge\">\n<title>Timisoara&#45;&gt;Arad</title>\n<path fill=\"none\" stroke=\"black\" d=\"M52.47,-263.4C48.55,-284.09 44,-313.81 44,-340.09 44,-865.79 44,-865.79 44,-865.79 44,-911.62 185.52,-945.75 259.74,-960.5\"/>\n<polygon fill=\"black\" stroke=\"black\" points=\"259.26,-963.97 269.74,-962.45 260.6,-957.1 259.26,-963.97\"/>\n<text text-anchor=\"middle\" x=\"54.5\" y=\"-599.24\" font-family=\"Times,serif\" font-size=\"14.00\">118</text>\n</g>\n<!-- Timisoara&#45;&gt;Lugoj -->\n<g id=\"edge39\" class=\"edge\">\n<title>Timisoara&#45;&gt;Lugoj</title>\n<path fill=\"none\" stroke=\"black\" d=\"M62.27,-263.28C64.72,-273.93 68.44,-286.1 74,-296.22 77.06,-301.79 80.97,-307.23 85.14,-312.27\"/>\n<polygon fill=\"black\" stroke=\"black\" points=\"82.58,-314.65 91.82,-319.82 87.82,-310.01 82.58,-314.65\"/>\n<text text-anchor=\"middle\" x=\"84.5\" y=\"-285.02\" font-family=\"Times,serif\" font-size=\"14.00\">111</text>\n</g>\n<!-- Urziceni&#45;&gt;Bucharest -->\n<g id=\"edge40\" class=\"edge\">\n<title>Urziceni&#45;&gt;Bucharest</title>\n<path fill=\"none\" stroke=\"black\" d=\"M218.25,-367.96C220.15,-378.83 223.63,-391.2 230,-400.96 234.42,-407.72 240.25,-413.85 246.51,-419.23\"/>\n<polygon fill=\"black\" stroke=\"black\" points=\"244.59,-422.17 254.6,-425.64 248.94,-416.69 244.59,-422.17\"/>\n<text text-anchor=\"middle\" x=\"237\" y=\"-389.76\" font-family=\"Times,serif\" font-size=\"14.00\">85</text>\n</g>\n<!-- Urziceni&#45;&gt;Hirsova -->\n<g id=\"edge41\" class=\"edge\">\n<title>Urziceni&#45;&gt;Hirsova</title>\n<path fill=\"none\" stroke=\"black\" d=\"M206.36,-314.69C201.53,-301.97 195.61,-286.37 190.35,-272.52\"/>\n<polygon fill=\"black\" stroke=\"black\" points=\"193.49,-270.92 186.66,-262.81 186.94,-273.4 193.49,-270.92\"/>\n<text text-anchor=\"middle\" x=\"206\" y=\"-285.02\" font-family=\"Times,serif\" font-size=\"14.00\">98</text>\n</g>\n<!-- Urziceni&#45;&gt;Vaslui -->\n<g id=\"edge42\" class=\"edge\">\n<title>Urziceni&#45;&gt;Vaslui</title>\n<path fill=\"none\" stroke=\"black\" d=\"M244.91,-320.33C253.07,-313.53 261.27,-305.31 267,-296.22 271.37,-289.29 274.56,-281.18 276.89,-273.22\"/>\n<polygon fill=\"black\" stroke=\"black\" points=\"280.33,-273.89 279.39,-263.34 273.54,-272.17 280.33,-273.89\"/>\n<text text-anchor=\"middle\" x=\"285.5\" y=\"-285.02\" font-family=\"Times,serif\" font-size=\"14.00\">142</text>\n</g>\n<!-- Vaslui&#45;&gt;Iasi -->\n<g id=\"edge44\" class=\"edge\">\n<title>Vaslui&#45;&gt;Iasi</title>\n<path fill=\"none\" stroke=\"black\" d=\"M267.5,-212.12C264.01,-205.7 260.81,-198.55 259,-191.48 257.04,-183.82 257.29,-175.54 258.62,-167.67\"/>\n<polygon fill=\"black\" stroke=\"black\" points=\"262.09,-168.18 260.89,-157.65 255.27,-166.64 262.09,-168.18\"/>\n<text text-anchor=\"middle\" x=\"266\" y=\"-180.28\" font-family=\"Times,serif\" font-size=\"14.00\">92</text>\n</g>\n<!-- Vaslui&#45;&gt;Urziceni -->\n<g id=\"edge43\" class=\"edge\">\n<title>Vaslui&#45;&gt;Urziceni</title>\n<path fill=\"none\" stroke=\"black\" d=\"M261.01,-258C254.36,-264.96 247.4,-273.04 242,-281.22 237.13,-288.59 232.79,-297.02 229.11,-305.16\"/>\n<polygon fill=\"black\" stroke=\"black\" points=\"225.84,-303.92 225.11,-314.49 232.27,-306.68 225.84,-303.92\"/>\n<text text-anchor=\"middle\" x=\"252.5\" y=\"-285.02\" font-family=\"Times,serif\" font-size=\"14.00\">142</text>\n</g>\n<!-- Zerind&#45;&gt;Arad -->\n<g id=\"edge46\" class=\"edge\">\n<title>Zerind&#45;&gt;Arad</title>\n<path fill=\"none\" stroke=\"black\" d=\"M404.01,-673.23C446.78,-701.41 520.76,-760.72 494,-819.92 464.63,-884.9 390.28,-929.18 343.77,-951.56\"/>\n<polygon fill=\"black\" stroke=\"black\" points=\"342.15,-948.45 334.58,-955.87 345.12,-954.79 342.15,-948.45\"/>\n<text text-anchor=\"middle\" x=\"505\" y=\"-808.72\" font-family=\"Times,serif\" font-size=\"14.00\">75</text>\n</g>\n<!-- Zerind&#45;&gt;Oradea -->\n<g id=\"edge45\" class=\"edge\">\n<title>Zerind&#45;&gt;Oradea</title>\n<path fill=\"none\" stroke=\"black\" d=\"M363.32,-680.79C360.71,-686.96 358.35,-693.68 357,-700.18 355.35,-708.16 356.21,-716.64 358.22,-724.61\"/>\n<polygon fill=\"black\" stroke=\"black\" points=\"354.95,-725.86 361.29,-734.34 361.62,-723.75 354.95,-725.86\"/>\n<text text-anchor=\"middle\" x=\"364\" y=\"-703.98\" font-family=\"Times,serif\" font-size=\"14.00\">71</text>\n</g>\n</g>\n</svg>\n",
            "text/plain": [
              "<graphviz.graphs.Digraph at 0x7eda9058cc50>"
            ]
          },
          "metadata": {},
          "execution_count": 3
        }
      ]
    },
    {
      "cell_type": "code",
      "source": [
        "# Ejecutar el algoritmo A* para encontrar la ruta más corta desde 'Timisoara' hasta 'Bucharest'\n",
        "start_node = 'Timisoara'\n",
        "goal_node = 'Bucharest'\n",
        "path, cost = a_star_search(graph, start_node, goal_node)\n",
        "print(f\"Ruta más corta desde {start_node} hasta {goal_node}: {path}\")\n",
        "print(f\"Costo total: {cost}\")"
      ],
      "metadata": {
        "colab": {
          "base_uri": "https://localhost:8080/"
        },
        "id": "3Ca1KdgWZ1kh",
        "outputId": "d09a726c-115f-4172-cd14-bc5e37d66100"
      },
      "execution_count": null,
      "outputs": [
        {
          "output_type": "stream",
          "name": "stdout",
          "text": [
            "Ruta más corta desde Timisoara hasta Bucharest: ['Timisoara', 'Arad', 'Sibiu', 'Rimnicu Vilcea', 'Pitesti', 'Bucharest']\n",
            "Costo total: 536\n"
          ]
        }
      ]
    }
  ]
}