{
  "nbformat": 4,
  "nbformat_minor": 0,
  "metadata": {
    "colab": {
      "provenance": []
    },
    "kernelspec": {
      "name": "python3",
      "display_name": "Python 3"
    },
    "language_info": {
      "name": "python"
    }
  },
  "cells": [
    {
      "cell_type": "code",
      "source": [
        "def mostrar_matriz(matriz):\n",
        "    # Indices de las columnas\n",
        "    print(\"  \", end=\"\")\n",
        "    for i in range(len(matriz)):\n",
        "        print(f\"{i}\", end=\" \")\n",
        "    print(\"\")\n",
        "\n",
        "    # Contenido de la matriz\n",
        "    for i in range(len(matriz)):\n",
        "        print(f\"{i}\", end=\" \")\n",
        "        for j in range(len(matriz[0])):\n",
        "            print(f\"{matriz[i][j]}\", end=\" \")\n",
        "        print(\"\")"
      ],
      "metadata": {
        "id": "G2SsiZyte6up"
      },
      "execution_count": null,
      "outputs": []
    },
    {
      "cell_type": "code",
      "source": [
        "# Matriz inicial (rellena con ceros)\n",
        "tam = 4\n",
        "matriz = [[0 for _ in range(tam)] for _ in range(tam)]\n",
        "\n",
        "mostrar_matriz(matriz)"
      ],
      "metadata": {
        "colab": {
          "base_uri": "https://localhost:8080/"
        },
        "id": "-xuxWUbJgEr4",
        "outputId": "b0fc2e0e-f923-4bcf-d1ce-df13dee11fcb"
      },
      "execution_count": null,
      "outputs": [
        {
          "output_type": "stream",
          "name": "stdout",
          "text": [
            "  0 1 2 3 \n",
            "0 0 0 0 0 \n",
            "1 0 0 0 0 \n",
            "2 0 0 0 0 \n",
            "3 0 0 0 0 \n"
          ]
        }
      ]
    },
    {
      "cell_type": "code",
      "source": [
        "def modificar_matriz(matriz, fila, columna, valor):\n",
        "    if 0 <= fila < len(matriz) and 0 <= columna < len(matriz[0]):\n",
        "        matriz[fila][columna] = valor\n",
        "    else:\n",
        "        print(\"Posición fuera de los límites de la matriz.\")"
      ],
      "metadata": {
        "id": "g_5V-7NCg2Jq"
      },
      "execution_count": null,
      "outputs": []
    },
    {
      "cell_type": "code",
      "source": [
        "# Modificamos ciertas posiciones\n",
        "# Estas serán los obstáculos\n",
        "modificar_matriz(matriz, 2, 0, 1)\n",
        "modificar_matriz(matriz, 1, 2, 1)\n",
        "modificar_matriz(matriz, 2, 2, 1)\n",
        "\n",
        "mostrar_matriz(matriz)"
      ],
      "metadata": {
        "colab": {
          "base_uri": "https://localhost:8080/"
        },
        "id": "auMitTvbhFiv",
        "outputId": "b63698d9-b4b0-47b3-d6eb-0c0a9a319f30"
      },
      "execution_count": null,
      "outputs": [
        {
          "output_type": "stream",
          "name": "stdout",
          "text": [
            "  0 1 2 3 \n",
            "0 0 0 0 0 \n",
            "1 0 0 1 0 \n",
            "2 1 0 1 0 \n",
            "3 0 0 0 0 \n"
          ]
        }
      ]
    },
    {
      "cell_type": "code",
      "source": [
        "import heapq\n",
        "\n",
        "class Nodo:\n",
        "    def __init__(self, fila, columna, g, h, padre=None):\n",
        "        self.fila = fila\n",
        "        self.columna = columna\n",
        "        self.g = g  # Costo acumulado\n",
        "        self.h = h  # Heurística (distancia Manhattan)\n",
        "        self.f = g + h  # Costo total\n",
        "        self.padre = padre  # Nodo anterior en la ruta\n",
        "\n",
        "    def __lt__(self, otro):\n",
        "        return self.f < otro.f  # Para ordenar la cola de prioridad"
      ],
      "metadata": {
        "id": "pJg6BPGsjzah"
      },
      "execution_count": null,
      "outputs": []
    },
    {
      "cell_type": "code",
      "source": [
        "def heuristica_manhattan(actual, objetivo):\n",
        "    return abs(actual[0] - objetivo[0]) + abs(actual[1] - objetivo[1])\n",
        "\n",
        "def obtener_vecinos(matriz, nodo, costo_v, costo_h, costo_d):\n",
        "    movimientos = [(-1, 0, costo_v), (1, 0, costo_v), (0, -1, costo_h), (0, 1, costo_h),\n",
        "                   (-1, -1, costo_d), (-1, 1, costo_d), (1, -1, costo_d), (1, 1, costo_d)]\n",
        "    vecinos = []\n",
        "\n",
        "    for mov in movimientos:\n",
        "        nueva_fila, nueva_columna = nodo.fila + mov[0], nodo.columna + mov[1]\n",
        "        if 0 <= nueva_fila < len(matriz) and 0 <= nueva_columna < len(matriz[0]):\n",
        "            if matriz[nueva_fila][nueva_columna] == 0:  # Solo si es un espacio libre\n",
        "                vecinos.append((nueva_fila, nueva_columna, mov[2]))\n",
        "\n",
        "    return vecinos\n",
        "\n",
        "def a_star(matriz, inicio, objetivo, costo_v=1, costo_h=1, costo_d=1.4):\n",
        "    inicio_nodo = Nodo(inicio[0], inicio[1], 0, heuristica_manhattan(inicio, objetivo))\n",
        "    cola_prioridad = []\n",
        "    heapq.heappush(cola_prioridad, inicio_nodo)\n",
        "    visitados = set()\n",
        "\n",
        "    while cola_prioridad:\n",
        "        actual = heapq.heappop(cola_prioridad)\n",
        "        if (actual.fila, actual.columna) == objetivo:\n",
        "            camino = []\n",
        "            while actual:\n",
        "                camino.append((actual.fila, actual.columna))\n",
        "                actual = actual.padre\n",
        "            return camino[::-1]\n",
        "\n",
        "        visitados.add((actual.fila, actual.columna))\n",
        "\n",
        "        for fila, columna, costo in obtener_vecinos(matriz, actual, costo_v, costo_h, costo_d):\n",
        "            if (fila, columna) in visitados:\n",
        "                continue\n",
        "            nuevo_g = actual.g + costo\n",
        "            nuevo_h = heuristica_manhattan((fila, columna), objetivo)\n",
        "            nuevo_nodo = Nodo(fila, columna, nuevo_g, nuevo_h, actual)\n",
        "            heapq.heappush(cola_prioridad, nuevo_nodo)\n",
        "\n",
        "    return None  # No hay camino posible"
      ],
      "metadata": {
        "id": "ictICub9mxIo"
      },
      "execution_count": null,
      "outputs": []
    },
    {
      "cell_type": "code",
      "source": [
        "# Puntos inicio y objetivo\n",
        "inicio = (1, 0) # (f, c)\n",
        "objetivo = (2, 3)\n",
        "\n",
        "# Costos personalizados\n",
        "costo_vertical = 10\n",
        "costo_horizontal = 10\n",
        "costo_diagonal = 14\n",
        "\n",
        "ruta = a_star(matriz, inicio, objetivo, costo_vertical, costo_horizontal, costo_diagonal)\n",
        "print(\"Ruta encontrada:\", ruta)"
      ],
      "metadata": {
        "colab": {
          "base_uri": "https://localhost:8080/"
        },
        "id": "6wYfIclNm5Nd",
        "outputId": "bb3abc24-6976-4a77-c816-debff2c4918c"
      },
      "execution_count": null,
      "outputs": [
        {
          "output_type": "stream",
          "name": "stdout",
          "text": [
            "Ruta encontrada: [(1, 0), (2, 1), (3, 2), (2, 3)]\n"
          ]
        }
      ]
    }
  ]
}