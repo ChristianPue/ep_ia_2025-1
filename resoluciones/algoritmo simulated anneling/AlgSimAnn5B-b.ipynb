{
 "cells": [
  {
   "cell_type": "code",
   "execution_count": 3,
   "id": "b6eb6232",
   "metadata": {},
   "outputs": [],
   "source": [
    "import random\n",
    "import math\n",
    "\n",
    "# Objective function f(x) = x^3 - 60x^2 + 900x + 100\n",
    "def objective_function(x):\n",
    "    return x**3 - 60*x**2 + 900*x + 100\n",
    "\n",
    "# Convert binary string to decimal\n",
    "def binary_to_decimal(binary_str):\n",
    "    return int(binary_str, 2)\n",
    "\n",
    "# Generate neighbor by flipping one random bit\n",
    "def get_neighbor(state):\n",
    "    # Convert state to list for manipulation\n",
    "    state_list = list(state)\n",
    "    # Choose random position (1 to 5)\n",
    "    pos = random.randint(0, 4)\n",
    "    # Flip bit at chosen position\n",
    "    state_list[pos] = '1' if state_list[pos] == '0' else '0'\n",
    "    return ''.join(state_list)\n",
    "\n",
    "# Simulated Annealing algorithm\n",
    "def simulated_annealing(initial_temp, cooling_rate, current_state):\n",
    "\n",
    "    current_value = binary_to_decimal(current_state)\n",
    "    current_energy = objective_function(current_value)\n",
    "    best_state = current_state\n",
    "    best_energy = current_energy\n",
    "    temp = initial_temp\n",
    "    \n",
    "    # Main loop\n",
    "    while temp > 0.1:  # Stopping condition\n",
    "        # Generate neighbor\n",
    "        neighbor_state = get_neighbor(current_state)\n",
    "        neighbor_value = binary_to_decimal(neighbor_state)\n",
    "        neighbor_energy = objective_function(neighbor_value)\n",
    "        \n",
    "        # Calculate energy difference\n",
    "        delta_energy = neighbor_energy - current_energy\n",
    "        \n",
    "        # Accept or reject neighbor\n",
    "        if delta_energy > 0 or random.random() < math.exp(delta_energy / temp):\n",
    "            current_state = neighbor_state\n",
    "            current_energy = neighbor_energy\n",
    "            \n",
    "            # Update best solution if better\n",
    "            if current_energy > best_energy:\n",
    "                best_state = current_state\n",
    "                best_energy = current_energy\n",
    "        \n",
    "        # Cool down\n",
    "        temp *= 1 - cooling_rate\n",
    "    \n",
    "    return best_state, binary_to_decimal(best_state), best_energy"
   ]
  },
  {
   "cell_type": "code",
   "execution_count": null,
   "id": "69324eb4",
   "metadata": {},
   "outputs": [
    {
     "name": "stdout",
     "output_type": "stream",
     "text": [
      "Best state (binary): 01010\n",
      "Best value (decimal): 10\n",
      "Maximum value f(x): 4100\n"
     ]
    }
   ],
   "source": [
    "# Data\n",
    "initial_temp = 1000\n",
    "cooling_rate = 0.045\n",
    "current_state = '10011'  # Initial state (19 in decimal)\n",
    "\n",
    "# Run the algorithm\n",
    "best_state, best_value, best_energy = simulated_annealing(initial_temp, cooling_rate, current_state)\n",
    "print(f\"Best state (binary): {best_state}\")\n",
    "print(f\"Best value (decimal): {best_value}\")\n",
    "print(f\"Maximum value f(x): {best_energy}\")"
   ]
  }
 ],
 "metadata": {
  "kernelspec": {
   "display_name": "Python 3",
   "language": "python",
   "name": "python3"
  },
  "language_info": {
   "codemirror_mode": {
    "name": "ipython",
    "version": 3
   },
   "file_extension": ".py",
   "mimetype": "text/x-python",
   "name": "python",
   "nbconvert_exporter": "python",
   "pygments_lexer": "ipython3",
   "version": "3.12.5"
  }
 },
 "nbformat": 4,
 "nbformat_minor": 5
}
