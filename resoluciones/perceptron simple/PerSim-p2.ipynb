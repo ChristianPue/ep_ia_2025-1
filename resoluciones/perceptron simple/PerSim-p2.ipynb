{
 "cells": [
  {
   "cell_type": "code",
   "execution_count": 3,
   "id": "044ad47c",
   "metadata": {},
   "outputs": [],
   "source": [
    "def perceptron_simple(matriz, w1, w2, umbral, max_iter=100):\n",
    "  \"\"\"\n",
    "  Algoritmo de aprendizaje del perceptrón simple.\n",
    "  \n",
    "  Parámetros:\n",
    "      matriz: Lista de listas [[x1, x2, d(x)], ...]\n",
    "      w1, w2: Pesos iniciales\n",
    "      umbral: Umbral inicial (bias)\n",
    "      max_iter: Máximo de iteraciones permitidas\n",
    "  Retorna:\n",
    "      Pesos aprendidos y umbral final\n",
    "  \"\"\"\n",
    "  iteracion = 0\n",
    "  while iteracion < max_iter:\n",
    "    error = False\n",
    "    print(f\"\\nIteración {iteracion + 1}\")\n",
    "    for entrada in matriz:\n",
    "      x1, x2, dx = entrada\n",
    "      resultado = w1 * x1 + w2 * x2 + umbral\n",
    "      y = 1 if resultado > 0 else -1\n",
    "      \n",
    "      print(f\"Entrada: ({x1}, {x2})  d(x)={dx}  →  y={y}\")\n",
    "\n",
    "      if y != dx:\n",
    "        # Mala clasificación, ajustar pesos\n",
    "        w1 += dx * x1\n",
    "        w2 += dx * x2\n",
    "        umbral += dx\n",
    "        print(f\"  Mal clasificado. Nuevos pesos: w1={w1}, w2={w2}, umbral={umbral}\")\n",
    "        error = True\n",
    "      else:\n",
    "        print(\"  Bien clasificado.\")\n",
    "\n",
    "    iteracion += 1\n",
    "    if not error:\n",
    "      break  # No hubo errores, convergió\n",
    "\n",
    "  print(f\"\\nFinalizado en {iteracion} iteraciones.\")\n",
    "  print(f\"Pesos finales: w1={w1}, w2={w2}, umbral={umbral}\")\n",
    "  return w1, w2, umbral"
   ]
  },
  {
   "cell_type": "code",
   "execution_count": 4,
   "id": "c292f148",
   "metadata": {},
   "outputs": [
    {
     "name": "stdout",
     "output_type": "stream",
     "text": [
      "\n",
      "Iteración 1\n",
      "Entrada: (-1, -1)  d(x)=-1  →  y=-1\n",
      "  Bien clasificado.\n",
      "Entrada: (1, -1)  d(x)=1  →  y=-1\n",
      "  Mal clasificado. Nuevos pesos: w1=1, w2=1, umbral=0.5\n",
      "Entrada: (-1, 1)  d(x)=1  →  y=1\n",
      "  Bien clasificado.\n",
      "Entrada: (1, 1)  d(x)=1  →  y=1\n",
      "  Bien clasificado.\n",
      "\n",
      "Iteración 2\n",
      "Entrada: (-1, -1)  d(x)=-1  →  y=-1\n",
      "  Bien clasificado.\n",
      "Entrada: (1, -1)  d(x)=1  →  y=1\n",
      "  Bien clasificado.\n",
      "Entrada: (-1, 1)  d(x)=1  →  y=1\n",
      "  Bien clasificado.\n",
      "Entrada: (1, 1)  d(x)=1  →  y=1\n",
      "  Bien clasificado.\n",
      "\n",
      "Finalizado en 2 iteraciones.\n",
      "Pesos finales: w1=1, w2=1, umbral=0.5\n"
     ]
    },
    {
     "data": {
      "text/plain": [
       "(1, 1, 0.5)"
      ]
     },
     "execution_count": 4,
     "metadata": {},
     "output_type": "execute_result"
    }
   ],
   "source": [
    "# Datos de entrada: [x1, x2, d(x)]\n",
    "datos = [\n",
    "  [-1, -1, -1],\n",
    "  [1, -1, 1],\n",
    "  [-1, 1, 1],\n",
    "  [1, 1, 1]\n",
    "]\n",
    "\n",
    "# Pesos y umbral inicial\n",
    "w1, w2, umbral = 0, 2, -0.5\n",
    "\n",
    "# Ejecutar perceptrón\n",
    "perceptron_simple(datos, w1, w2, umbral)"
   ]
  }
 ],
 "metadata": {
  "kernelspec": {
   "display_name": "Python 3",
   "language": "python",
   "name": "python3"
  },
  "language_info": {
   "codemirror_mode": {
    "name": "ipython",
    "version": 3
   },
   "file_extension": ".py",
   "mimetype": "text/x-python",
   "name": "python",
   "nbconvert_exporter": "python",
   "pygments_lexer": "ipython3",
   "version": "3.12.5"
  }
 },
 "nbformat": 4,
 "nbformat_minor": 5
}
