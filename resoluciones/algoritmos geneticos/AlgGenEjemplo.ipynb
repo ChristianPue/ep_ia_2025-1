{
 "cells": [
  {
   "cell_type": "code",
   "execution_count": 330,
   "id": "250c5a78",
   "metadata": {},
   "outputs": [],
   "source": [
    "import random\n",
    "\n",
    "# 1. Población inicial\n",
    "# Generar la población\n",
    "def generate_individual(n):\n",
    "    \"\"\"Crea un individuo (una permutación de filas para cada columna).\"\"\"\n",
    "    individual = list(range(n))\n",
    "    random.shuffle(individual)\n",
    "    return individual\n",
    "\n",
    "def generate_population(size, n):\n",
    "    \"\"\"Genera una población inicial aleatoria.\"\"\"\n",
    "    return [generate_individual(n) for _ in range(size)]\n",
    "\n",
    "def generate_population_with_seed(size, n, initial_individuals=None):\n",
    "    \"\"\"\n",
    "    Genera una población inicial con individuos dados por el usuario.\n",
    "    \n",
    "    - size: tamaño total de la población\n",
    "    - n: tamaño del tablero (n reinas)\n",
    "    - initial_individuals: lista de individuos (listas de tamaño n)\n",
    "    \"\"\"\n",
    "    population = []\n",
    "\n",
    "    # Validación básica\n",
    "    if initial_individuals:\n",
    "        for ind in initial_individuals:\n",
    "            if len(ind) != n:\n",
    "                raise ValueError(f\"El individuo {ind} no tiene longitud {n}\")\n",
    "            if sorted(ind) != list(range(n)):\n",
    "                raise ValueError(f\"El individuo {ind} no es una permutación válida\")\n",
    "\n",
    "        population.extend(initial_individuals)\n",
    "\n",
    "    # Completar con individuos aleatorios si hace falta\n",
    "    while len(population) < size:\n",
    "        individual = generate_individual(n)\n",
    "        population.append(individual)\n",
    "\n",
    "    return population"
   ]
  },
  {
   "cell_type": "code",
   "execution_count": null,
   "id": "97bb0feb",
   "metadata": {},
   "outputs": [],
   "source": [
    "# 2. Función de fitness\n",
    "# Cálculo: Dos reinas se atacan en diagonal si\n",
    "#   abs(col1 - col2) == abs(row1 - row2)\n",
    "\n",
    "def fitness(individual):\n",
    "    \"\"\"Calcula el número de pares de reinas que NO se atacan en diagonal.\"\"\"\n",
    "    n = len(individual)\n",
    "    non_attacking_pairs = 0\n",
    "\n",
    "    for i in range(n):\n",
    "        for j in range(i + 1, n):\n",
    "            if abs(individual[i] - individual[j]) != abs(i - j):\n",
    "                non_attacking_pairs += 1\n",
    "\n",
    "    return non_attacking_pairs"
   ]
  },
  {
   "cell_type": "code",
   "execution_count": 332,
   "id": "ed40175a",
   "metadata": {},
   "outputs": [],
   "source": [
    "# 3. Selección\n",
    "# Método: selección elitista + ruleta (o aleatoria ponderada)\n",
    "def selection(population, num_selected):\n",
    "    \"\"\"Selecciona los mejores individuos según el fitness.\"\"\"\n",
    "    sorted_population = sorted(population, key=fitness, reverse=True)\n",
    "    return sorted_population[:num_selected]"
   ]
  },
  {
   "cell_type": "code",
   "execution_count": 333,
   "id": "20024e6a",
   "metadata": {},
   "outputs": [],
   "source": [
    "# 4. Cruces (Crossover)\n",
    "# Método: Order Crossover (OX)\n",
    "def crossover(parent1, parent2):\n",
    "    \"\"\"Cruza dos padres para generar un hijo válido (sin filas repetidas).\"\"\"\n",
    "    n = len(parent1)\n",
    "    start, end = sorted(random.sample(range(n), 2))\n",
    "\n",
    "    child = [None] * n\n",
    "    # Copiamos un segmento del primer padre\n",
    "    child[start:end] = parent1[start:end]\n",
    "\n",
    "    # Rellenamos con genes del segundo padre sin duplicar\n",
    "    fill_pos = end\n",
    "    for gene in parent2:\n",
    "        if gene not in child:\n",
    "            if fill_pos >= n:\n",
    "                fill_pos = 0\n",
    "            while child[fill_pos] is not None:\n",
    "                fill_pos += 1\n",
    "                if fill_pos >= n:\n",
    "                    fill_pos = 0\n",
    "            child[fill_pos] = gene\n",
    "\n",
    "    return child"
   ]
  },
  {
   "cell_type": "code",
   "execution_count": 334,
   "id": "299a223c",
   "metadata": {},
   "outputs": [],
   "source": [
    "# 5. Mutación\n",
    "# Método: Permutación simple\n",
    "def mutate(individual, mutation_rate):\n",
    "    \"\"\"Aplica mutación intercambiando dos genes con una cierta probabilidad.\"\"\"\n",
    "    if random.random() < mutation_rate:\n",
    "        i, j = random.sample(range(len(individual)), 2)\n",
    "        individual[i], individual[j] = individual[j], individual[i]\n",
    "    return individual"
   ]
  },
  {
   "cell_type": "code",
   "execution_count": 335,
   "id": "694bf12e",
   "metadata": {},
   "outputs": [],
   "source": [
    "# 6. Generar nueva generación\n",
    "# Se aplica: Selección de padres, Crossover, Mutación.\n",
    "# Se repite hasta llenar la nueva generación\n",
    "def create_new_generation(population, num_selected, mutation_rate, population_size):\n",
    "    \"\"\"Genera una nueva generación de individuos.\"\"\"\n",
    "    selected = selection(population, num_selected)\n",
    "    new_population = selected.copy()\n",
    "\n",
    "    while len(new_population) < population_size:\n",
    "        parent1, parent2 = random.sample(selected, 2)\n",
    "        child = crossover(parent1, parent2)\n",
    "        child = mutate(child, mutation_rate)\n",
    "        new_population.append(child)\n",
    "\n",
    "    return new_population"
   ]
  },
  {
   "cell_type": "code",
   "execution_count": 336,
   "id": "5a52a50d",
   "metadata": {},
   "outputs": [],
   "source": [
    "# Función de Algoritmo Genético\n",
    "def run_genetic_algorithm(n, population_size, max_generations, mutation_rate, selection_size_ratio=0.2, initial_individuals=None):\n",
    "  TARGET_FITNESS = (n * (n - 1)) // 2\n",
    "  \n",
    "  # Generar población inicial\n",
    "  population = (generate_population_with_seed(population_size, n, initial_individuals) \n",
    "      if initial_individuals is not None \n",
    "      else generate_population(population_size, n)\n",
    "    )\n",
    "\n",
    "  for generation in range(max_generations):\n",
    "    # Ordenar por fitness\n",
    "    population = sorted(population, key=fitness, reverse=True)\n",
    "\n",
    "    # Mejor individuo actual\n",
    "    best = population[0]\n",
    "    best_fitness = fitness(best)\n",
    "\n",
    "    print(f\"Generación {generation}: Mejor fitness = {best_fitness}\")\n",
    "\n",
    "    # Verificamos si es solución perfecta\n",
    "    if best_fitness == TARGET_FITNESS:\n",
    "      print(f\"\\n¡Solución encontrada!: {best}\")\n",
    "      return best\n",
    "\n",
    "    # Crear nueva generación\n",
    "    num_selected = max(2, int(selection_size_ratio * population_size))\n",
    "    population = create_new_generation(population, num_selected, mutation_rate, population_size)\n",
    "  \n",
    "  print(\"\\nNo se encontró una solución válida.\")\n",
    "  return None"
   ]
  },
  {
   "cell_type": "code",
   "execution_count": 337,
   "id": "fea5704e",
   "metadata": {},
   "outputs": [],
   "source": [
    "# Variables necesarias\n",
    "N = 8                   # Número de reinas a colocar: Tamaño del tablero y cantidad de reinas a colocar.\n",
    "POPULATION_SIZE = 100   # Tamaño de la población: Cantidad de soluciones candidatas en cada generación.\n",
    "MAX_GENERATIONS = 10000000 # Límite superior de generaciones para detener el algoritmo si no se encuentra una solución perfecta.\n",
    "MUTATION_RATE = 0.05    # Probabilidad de mutación para mantener diversidad genética."
   ]
  },
  {
   "cell_type": "code",
   "execution_count": 338,
   "id": "070df4b4",
   "metadata": {},
   "outputs": [
    {
     "name": "stdout",
     "output_type": "stream",
     "text": [
      "Generación 0: Mejor fitness = 27\n",
      "Generación 1: Mejor fitness = 27\n",
      "Generación 2: Mejor fitness = 28\n",
      "\n",
      "¡Solución encontrada!: [6, 2, 7, 1, 4, 0, 5, 3]\n"
     ]
    }
   ],
   "source": [
    "# Probamos el algoritmo genético\n",
    "solution = run_genetic_algorithm(N, POPULATION_SIZE, MAX_GENERATIONS, MUTATION_RATE)"
   ]
  },
  {
   "cell_type": "code",
   "execution_count": 339,
   "id": "7723805b",
   "metadata": {},
   "outputs": [
    {
     "name": "stdout",
     "output_type": "stream",
     "text": [
      "Tablero (representación de filas por columna):\n",
      "   0 1 2 3 4 5 6 7 \n",
      " 0 . . . . . . Q .\n",
      " 1 . . Q . . . . .\n",
      " 2 . . . . . . . Q\n",
      " 3 . Q . . . . . .\n",
      " 4 . . . . Q . . .\n",
      " 5 Q . . . . . . .\n",
      " 6 . . . . . Q . .\n",
      " 7 . . . Q . . . .\n",
      "Solución (genoma): [6, 2, 7, 1, 4, 0, 5, 3]\n"
     ]
    }
   ],
   "source": [
    "# Mostrar la solución en un tablero NxN\n",
    "def view_solution(solution):\n",
    "  print(\"Tablero (representación de filas por columna):\")\n",
    "  # Indices: 0 1 2 ...\n",
    "  print(\"   \", end=\"\")\n",
    "  for i in range(len(solution)):\n",
    "    print(f\"{i}\", end=\" \")\n",
    "  print(\"\")\n",
    "\n",
    "  for i in range(len(solution)):\n",
    "    row = ['Q' if solution[i] == j else '.' for j in range(len(solution))]\n",
    "    print(f\" {i} \", end=\"\")\n",
    "    print(\" \".join(row))\n",
    "  \n",
    "  print(f\"Solución (genoma): {solution}\")\n",
    "\n",
    "view_solution(solution)"
   ]
  },
  {
   "cell_type": "code",
   "execution_count": 340,
   "id": "4ac6dd06",
   "metadata": {},
   "outputs": [
    {
     "name": "stdout",
     "output_type": "stream",
     "text": [
      "Generación 0: Mejor fitness = 28\n",
      "\n",
      "¡Solución encontrada!: [0, 4, 7, 5, 2, 6, 1, 3]\n",
      "Tablero (representación de filas por columna):\n",
      "   0 1 2 3 4 5 6 7 \n",
      " 0 Q . . . . . . .\n",
      " 1 . . . . Q . . .\n",
      " 2 . . . . . . . Q\n",
      " 3 . . . . . Q . .\n",
      " 4 . . Q . . . . .\n",
      " 5 . . . . . . Q .\n",
      " 6 . Q . . . . . .\n",
      " 7 . . . Q . . . .\n",
      "Solución (genoma): [0, 4, 7, 5, 2, 6, 1, 3]\n"
     ]
    }
   ],
   "source": [
    "# Uno o más individuos iniciales dados manualmente\n",
    "semillas = [\n",
    "  [0, 4, 7, 5, 2, 6, 1, 3],\n",
    "  [3, 1, 6, 2, 5, 7, 0, 4]\n",
    "]\n",
    "\n",
    "solution = run_genetic_algorithm(N, POPULATION_SIZE, MAX_GENERATIONS, MUTATION_RATE, 0.2, semillas)\n",
    "\n",
    "view_solution(solution)"
   ]
  }
 ],
 "metadata": {
  "kernelspec": {
   "display_name": "Python 3",
   "language": "python",
   "name": "python3"
  },
  "language_info": {
   "codemirror_mode": {
    "name": "ipython",
    "version": 3
   },
   "file_extension": ".py",
   "mimetype": "text/x-python",
   "name": "python",
   "nbconvert_exporter": "python",
   "pygments_lexer": "ipython3",
   "version": "3.12.5"
  }
 },
 "nbformat": 4,
 "nbformat_minor": 5
}
