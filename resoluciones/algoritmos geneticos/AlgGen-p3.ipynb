{
 "cells": [
  {
   "cell_type": "code",
   "execution_count": 37,
   "id": "9bc1ac2b",
   "metadata": {},
   "outputs": [],
   "source": [
    "import random"
   ]
  },
  {
   "cell_type": "code",
   "execution_count": 38,
   "id": "93a4f314",
   "metadata": {},
   "outputs": [],
   "source": [
    "# Población inicial (representada como strings binarios)\n",
    "population = [\"01010\", \"00101\", \"00110\", \"01100\", \"00111\", \"10000\"]"
   ]
  },
  {
   "cell_type": "code",
   "execution_count": 39,
   "id": "aaa7ee9d",
   "metadata": {},
   "outputs": [],
   "source": [
    "def FuncionParejas(population):\n",
    "  indices = list(range(len(population)))\n",
    "  random.shuffle(indices)\n",
    "\n",
    "  parejas = []\n",
    "  while len(indices) >= 2:\n",
    "    i = indices.pop()\n",
    "    j = indices.pop()\n",
    "    parejas.append((population[i], population[j]))\n",
    "  \n",
    "  return parejas"
   ]
  },
  {
   "cell_type": "code",
   "execution_count": 51,
   "id": "f5434f8e",
   "metadata": {},
   "outputs": [],
   "source": [
    "def FuncionMutacion(population, mutation_rate=0.2):\n",
    "  nueva_poblacion = []\n",
    "  \n",
    "  for individuo in population:\n",
    "    if random.random() < mutation_rate:\n",
    "      pos = random.randint(0, 4)  # posición entre 0 y 4 (5 bits)\n",
    "      nuevo_gen = list(individuo)\n",
    "      # Cambiar el bit en la posición seleccionada\n",
    "      nuevo_gen[pos] = '1' if nuevo_gen[pos] == '0' else '0'\n",
    "      individuo = ''.join(nuevo_gen)\n",
    "        \n",
    "    nueva_poblacion.append(individuo)\n",
    "    \n",
    "  return nueva_poblacion"
   ]
  },
  {
   "cell_type": "code",
   "execution_count": 52,
   "id": "5fc77c48",
   "metadata": {},
   "outputs": [
    {
     "name": "stdout",
     "output_type": "stream",
     "text": [
      "Población original:\n",
      "['01010', '00101', '00110', '01100', '00111', '10000']\n",
      "\n",
      "Parejas formadas:\n",
      "10000 - 00111\n",
      "00110 - 00101\n",
      "01010 - 01100\n",
      "\n",
      "Población luego de mutación:\n",
      "['01011', '00101', '10110', '01101', '00111', '10001']\n"
     ]
    }
   ],
   "source": [
    "print(\"Población original:\")\n",
    "print(population)\n",
    "\n",
    "print(\"\\nParejas formadas:\")\n",
    "parejas = FuncionParejas(population)\n",
    "for p1, p2 in parejas:\n",
    "    print(f\"{p1} - {p2}\")\n",
    "\n",
    "print(\"\\nPoblación luego de mutación:\")\n",
    "mutados = FuncionMutacion(population, 0.2)\n",
    "print(mutados)"
   ]
  }
 ],
 "metadata": {
  "kernelspec": {
   "display_name": "Python 3",
   "language": "python",
   "name": "python3"
  },
  "language_info": {
   "codemirror_mode": {
    "name": "ipython",
    "version": 3
   },
   "file_extension": ".py",
   "mimetype": "text/x-python",
   "name": "python",
   "nbconvert_exporter": "python",
   "pygments_lexer": "ipython3",
   "version": "3.12.5"
  }
 },
 "nbformat": 4,
 "nbformat_minor": 5
}
