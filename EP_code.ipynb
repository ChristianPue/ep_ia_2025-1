{
 "cells": [
  {
   "cell_type": "markdown",
   "id": "fdb423e8",
   "metadata": {},
   "source": [
    "## Evaluación: Examen Parcial\n",
    "- Curso: Inteligencia Artificial\n",
    "- Profesor: Rosales Huamanchumo, Javier Ulises\n",
    "- Alumno: Araujo Canales, Christian Jeaker\n",
    "- Código: u202121225"
   ]
  },
  {
   "cell_type": "code",
   "execution_count": null,
   "id": "674d2470",
   "metadata": {},
   "outputs": [],
   "source": []
  }
 ],
 "metadata": {
  "language_info": {
   "name": "python"
  }
 },
 "nbformat": 4,
 "nbformat_minor": 5
}
